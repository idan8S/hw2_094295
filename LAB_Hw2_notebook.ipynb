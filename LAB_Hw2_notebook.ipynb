{
  "cells": [
    {
      "cell_type": "code",
      "execution_count": 1,
      "metadata": {},
      "outputs": [
        {
          "name": "stdout",
          "output_type": "stream",
          "text": [
            "Number of files in each folder:\n",
            "iii: 187\n",
            "ii: 157\n",
            "x: 179\n",
            "i: 261\n",
            "vii: 193\n",
            "v: 196\n",
            "vi: 181\n",
            "iv: 281\n",
            "viii: 199\n",
            "ix: 234\n",
            "Total number of files: 2068\n"
          ]
        }
      ],
      "source": [
        "import os\n",
        "\n",
        "# Get the path to the big folder\n",
        "big_folder_path = \"/home/student/hw2_094295/data/train\"\n",
        "\n",
        "# Get the list of all the folders in the big folder\n",
        "folders = os.listdir(big_folder_path)\n",
        "\n",
        "# Initialize a variable to store the number of files in each folder\n",
        "num_files_per_folder = {}\n",
        "\n",
        "# Iterate over all the folders\n",
        "for folder in folders:\n",
        "\n",
        "    # Get the path to the folder\n",
        "    folder_path = os.path.join(big_folder_path, folder)\n",
        "\n",
        "    # Get the number of files in the folder\n",
        "    num_files = len(os.listdir(folder_path))\n",
        "\n",
        "    # Add the number of files to the dictionary\n",
        "    num_files_per_folder[folder] = num_files\n",
        "\n",
        "# Get the total number of files\n",
        "total_num_files = sum(num_files_per_folder.values())\n",
        "\n",
        "# Print the number of files in each folder and overall\n",
        "print(\"Number of files in each folder:\")\n",
        "for folder, num_files in num_files_per_folder.items():\n",
        "    print(f\"{folder}: {num_files}\")\n",
        "\n",
        "print(\"Total number of files:\", total_num_files)\n"
      ]
    },
    {
      "cell_type": "code",
      "execution_count": 2,
      "metadata": {},
      "outputs": [
        {
          "name": "stdout",
          "output_type": "stream",
          "text": [
            "Number of files in each folder:\n",
            "iii: 187\n",
            "ii: 155\n",
            "x: 178\n",
            "i: 254\n",
            "vii: 184\n",
            "v: 184\n",
            "vi: 174\n",
            "iv: 275\n",
            "viii: 189\n",
            "ix: 224\n",
            "Total number of files: 2004\n"
          ]
        }
      ],
      "source": [
        "import os\n",
        "\n",
        "# Get the path to the big folder\n",
        "big_folder_path = \"/home/student/hw2_094295/data_edited/train\"\n",
        "\n",
        "# Get the list of all the folders in the big folder\n",
        "folders = os.listdir(big_folder_path)\n",
        "\n",
        "# Initialize a variable to store the number of files in each folder\n",
        "num_files_per_folder = {}\n",
        "\n",
        "# Iterate over all the folders\n",
        "for folder in folders:\n",
        "\n",
        "    # Get the path to the folder\n",
        "    folder_path = os.path.join(big_folder_path, folder)\n",
        "\n",
        "    # Get the number of files in the folder\n",
        "    num_files = len(os.listdir(folder_path))\n",
        "\n",
        "    # Add the number of files to the dictionary\n",
        "    num_files_per_folder[folder] = num_files\n",
        "\n",
        "# Get the total number of files\n",
        "total_num_files = sum(num_files_per_folder.values())\n",
        "\n",
        "# Print the number of files in each folder and overall\n",
        "print(\"Number of files in each folder:\")\n",
        "for folder, num_files in num_files_per_folder.items():\n",
        "    print(f\"{folder}: {num_files}\")\n",
        "\n",
        "print(\"Total number of files:\", total_num_files)\n"
      ]
    },
    {
      "cell_type": "code",
      "execution_count": 11,
      "metadata": {},
      "outputs": [
        {
          "data": {
            "image/png": "[encoded data removed]",
            "text/plain": [
              "<Figure size 640x480 with 1 Axes>"
            ]
          },
          "metadata": {},
          "output_type": "display_data"
        }
      ],
      "source": [
        "import os\n",
        "import matplotlib.pyplot as plt\n",
        "\n",
        "# Get the path to the big folder\n",
        "big_folder_path = \"/home/student/hw2_094295/data/augmented_data/augmented_train\"\n",
        "\n",
        "# Get the list of all the folders in the big folder\n",
        "folders = os.listdir(big_folder_path)\n",
        "\n",
        "# Initialize a variable to store the number of files in each folder\n",
        "num_files = {}\n",
        "\n",
        "# Iterate over all the folders\n",
        "for folder in folders:\n",
        "\n",
        "    # Get the list of all the files in the folder\n",
        "    files = os.listdir(os.path.join(big_folder_path, folder))\n",
        "\n",
        "    # Add the number of files to the dictionary\n",
        "    num_files[folder] = len(files)\n",
        "\n",
        "# Create a bar plot\n",
        "plt.bar(folders, num_files.values())\n",
        "\n",
        "# Label the axes\n",
        "plt.xlabel(\"Folder name\")\n",
        "plt.ylabel(\"Number of files\")\n",
        "\n",
        "# Title the plot\n",
        "plt.title(\"Number of files in each folder\")\n",
        "\n",
        "# Show the plot\n",
        "plt.show()\n"
      ]
    }
  ],
  "metadata": {
    "colab": {
      "provenance": []
    },
    "kernelspec": {
      "display_name": "Python 3",
      "name": "python3"
    },
    "language_info": {
      "codemirror_mode": {
        "name": "ipython",
        "version": 3
      },
      "file_extension": ".py",
      "mimetype": "text/x-python",
      "name": "python",
      "nbconvert_exporter": "python",
      "pygments_lexer": "ipython3",
      "version": "3.10.10"
    }
  },
  "nbformat": 4,
  "nbformat_minor": 0
}
